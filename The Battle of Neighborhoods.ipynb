{
 "cells": [
  {
   "cell_type": "markdown",
   "metadata": {},
   "source": [
    "<img src=\"new_york.jpg\">"
   ]
  },
  {
   "cell_type": "markdown",
   "metadata": {},
   "source": [
    "# <center>Battle of Neighborhoods</center>\n",
    "## <center>Looking for new house to buy in New York</center>\n",
    "### <center>IBM Applied Data Science Capstone Project</center>"
   ]
  },
  {
   "cell_type": "code",
   "execution_count": null,
   "metadata": {},
   "outputs": [],
   "source": []
  },
  {
   "cell_type": "markdown",
   "metadata": {},
   "source": [
    "## Table of contents"
   ]
  },
  {
   "cell_type": "markdown",
   "metadata": {},
   "source": [
    "## 1. Introduction\n",
    "\n",
    "### Background\n",
    "Moving to new cities and finding new house, especially in big and crowded cities, can be challenging. Especially, when you have to buy a house and beside finding a perfekt place for living, you like to look at it as some how an investment. If the city is new to you, probably you don't know living in which neighborhood is the most fit with your desires and needs. \n",
    "\n",
    "Maybe and investment wise, it is important for you \n",
    "\n",
    "### Problem statement\n",
    "\n",
    "__Assumptions:__\n",
    "- sdf\n",
    "- sdf\n",
    "\n",
    "\n",
    "### Interests\n",
    "In this study we analyze the price as well as the \n",
    "\n",
    "In our study case we have focused on \n",
    "- Safty\n",
    "- Schools nearby\n",
    "- Child and adults health care\n",
    "- Safty\n",
    "- Restaurant nearby"
   ]
  },
  {
   "cell_type": "markdown",
   "metadata": {},
   "source": [
    "## 2. Data\n",
    "\n",
    "### Data  sources and description\n",
    "\n",
    "\n",
    "I put a copy of `.csv` data files in my github repository beside this Jupyter Notebook, for easy access to data. However, for space and memory considerations, unnecessary columns (features) are removed before uploading. You can still access to full data through the above provided links. \n",
    "\n",
    "#### Data description\n",
    "Each data on the source contains lots of information and many features. For this study we only focus on the following features:\n",
    "\n",
    "\n",
    "### Data cleansing and feature selection\n",
    "\n",
    "\n",
    "#### Final dataframe of New York neighborhoods and their features\n"
   ]
  },
  {
   "cell_type": "markdown",
   "metadata": {},
   "source": [
    "## 3. Exploratory Data Analysis\n",
    "\n",
    "In this section we will explore data to find out useful information inside them. For the first step it is good to visuallize the distribution of neighborhoods and their populations using Folium map [Folium]."
   ]
  },
  {
   "cell_type": "markdown",
   "metadata": {},
   "source": [
    "## 4. Results and discussion"
   ]
  },
  {
   "cell_type": "markdown",
   "metadata": {},
   "source": [
    "## 5. Conclusion"
   ]
  },
  {
   "cell_type": "markdown",
   "metadata": {},
   "source": [
    "## References\n",
    "\n",
    "1. [Foluim] Folium Map. URL. https://pypi.org/project/folium/"
   ]
  },
  {
   "cell_type": "markdown",
   "metadata": {},
   "source": []
  },
  {
   "cell_type": "code",
   "execution_count": null,
   "metadata": {},
   "outputs": [],
   "source": []
  },
  {
   "cell_type": "code",
   "execution_count": null,
   "metadata": {},
   "outputs": [],
   "source": []
  },
  {
   "cell_type": "code",
   "execution_count": null,
   "metadata": {},
   "outputs": [],
   "source": []
  }
 ],
 "metadata": {
  "kernelspec": {
   "display_name": "Python 3",
   "language": "python",
   "name": "python3"
  },
  "language_info": {
   "codemirror_mode": {
    "name": "ipython",
    "version": 3
   },
   "file_extension": ".py",
   "mimetype": "text/x-python",
   "name": "python",
   "nbconvert_exporter": "python",
   "pygments_lexer": "ipython3",
   "version": "3.8.5"
  }
 },
 "nbformat": 4,
 "nbformat_minor": 4
}
